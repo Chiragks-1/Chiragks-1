{
  "nbformat": 4,
  "nbformat_minor": 0,
  "metadata": {
    "colab": {
      "name": "Jobathon1.ipynb",
      "provenance": [],
      "collapsed_sections": [],
      "authorship_tag": "ABX9TyMUQ7xmUqxw4aHmLlgpzxdu",
      "include_colab_link": true
    },
    "kernelspec": {
      "name": "python3",
      "display_name": "Python 3"
    },
    "language_info": {
      "name": "python"
    }
  },
  "cells": [
    {
      "cell_type": "markdown",
      "metadata": {
        "id": "view-in-github",
        "colab_type": "text"
      },
      "source": [
        "<a href=\"https://colab.research.google.com/github/Chiragks-1/Chiragks-1/blob/main/Jobathon1.ipynb\" target=\"_parent\"><img src=\"https://colab.research.google.com/assets/colab-badge.svg\" alt=\"Open In Colab\"/></a>"
      ]
    },
    {
      "cell_type": "code",
      "metadata": {
        "colab": {
          "base_uri": "https://localhost:8080/",
          "height": 35
        },
        "id": "q-r2mT6gtD5b",
        "outputId": "33ff0486-13d1-4396-8400-369d1231787a"
      },
      "source": [
        ""
      ],
      "execution_count": 1,
      "outputs": [
        {
          "output_type": "execute_result",
          "data": {
            "application/vnd.google.colaboratory.intrinsic+json": {
              "type": "string"
            },
            "text/plain": [
              "'/content'"
            ]
          },
          "metadata": {},
          "execution_count": 1
        }
      ]
    },
    {
      "cell_type": "code",
      "metadata": {
        "id": "hkdGRlEGue7-"
      },
      "source": [
        "import pandas as pd\n",
        "import numpy as np\n",
        "import matplotlib.pyplot as plt\n",
        "import seaborn as sns"
      ],
      "execution_count": 2,
      "outputs": []
    },
    {
      "cell_type": "code",
      "metadata": {
        "colab": {
          "base_uri": "https://localhost:8080/"
        },
        "id": "-ISphnukyYVR",
        "outputId": "cd6c4459-3dd7-45de-9937-ffa641c23827"
      },
      "source": [
        "from google.colab import drive\n",
        "drive.mount('/content/drive')"
      ],
      "execution_count": 3,
      "outputs": [
        {
          "output_type": "stream",
          "name": "stdout",
          "text": [
            "Mounted at /content/drive\n"
          ]
        }
      ]
    },
    {
      "cell_type": "code",
      "metadata": {
        "id": "VQ7Op7rrv3mV"
      },
      "source": [
        "import io\n",
        "df_train = pd.read_csv('/content/drive/MyDrive/TRAIN (1).csv')"
      ],
      "execution_count": 4,
      "outputs": []
    },
    {
      "cell_type": "code",
      "metadata": {
        "colab": {
          "base_uri": "https://localhost:8080/",
          "height": 204
        },
        "id": "dj8ABw-oggBh",
        "outputId": "975e5922-507c-43f5-c958-9f1f39853319"
      },
      "source": [
        "df_train.head()"
      ],
      "execution_count": 5,
      "outputs": [
        {
          "output_type": "execute_result",
          "data": {
            "text/html": [
              "<div>\n",
              "<style scoped>\n",
              "    .dataframe tbody tr th:only-of-type {\n",
              "        vertical-align: middle;\n",
              "    }\n",
              "\n",
              "    .dataframe tbody tr th {\n",
              "        vertical-align: top;\n",
              "    }\n",
              "\n",
              "    .dataframe thead th {\n",
              "        text-align: right;\n",
              "    }\n",
              "</style>\n",
              "<table border=\"1\" class=\"dataframe\">\n",
              "  <thead>\n",
              "    <tr style=\"text-align: right;\">\n",
              "      <th></th>\n",
              "      <th>ID</th>\n",
              "      <th>Store_id</th>\n",
              "      <th>Store_Type</th>\n",
              "      <th>Location_Type</th>\n",
              "      <th>Region_Code</th>\n",
              "      <th>Date</th>\n",
              "      <th>Holiday</th>\n",
              "      <th>Discount</th>\n",
              "      <th>#Order</th>\n",
              "      <th>Sales</th>\n",
              "    </tr>\n",
              "  </thead>\n",
              "  <tbody>\n",
              "    <tr>\n",
              "      <th>0</th>\n",
              "      <td>T1000001</td>\n",
              "      <td>1</td>\n",
              "      <td>S1</td>\n",
              "      <td>L3</td>\n",
              "      <td>R1</td>\n",
              "      <td>1/1/2018</td>\n",
              "      <td>1</td>\n",
              "      <td>Yes</td>\n",
              "      <td>9</td>\n",
              "      <td>7011.84</td>\n",
              "    </tr>\n",
              "    <tr>\n",
              "      <th>1</th>\n",
              "      <td>T1000002</td>\n",
              "      <td>253</td>\n",
              "      <td>S4</td>\n",
              "      <td>L2</td>\n",
              "      <td>R1</td>\n",
              "      <td>1/1/2018</td>\n",
              "      <td>1</td>\n",
              "      <td>Yes</td>\n",
              "      <td>60</td>\n",
              "      <td>51789.12</td>\n",
              "    </tr>\n",
              "    <tr>\n",
              "      <th>2</th>\n",
              "      <td>T1000003</td>\n",
              "      <td>252</td>\n",
              "      <td>S3</td>\n",
              "      <td>L2</td>\n",
              "      <td>R1</td>\n",
              "      <td>1/1/2018</td>\n",
              "      <td>1</td>\n",
              "      <td>Yes</td>\n",
              "      <td>42</td>\n",
              "      <td>36868.20</td>\n",
              "    </tr>\n",
              "    <tr>\n",
              "      <th>3</th>\n",
              "      <td>T1000004</td>\n",
              "      <td>251</td>\n",
              "      <td>S2</td>\n",
              "      <td>L3</td>\n",
              "      <td>R1</td>\n",
              "      <td>1/1/2018</td>\n",
              "      <td>1</td>\n",
              "      <td>Yes</td>\n",
              "      <td>23</td>\n",
              "      <td>19715.16</td>\n",
              "    </tr>\n",
              "    <tr>\n",
              "      <th>4</th>\n",
              "      <td>T1000005</td>\n",
              "      <td>250</td>\n",
              "      <td>S2</td>\n",
              "      <td>L3</td>\n",
              "      <td>R4</td>\n",
              "      <td>1/1/2018</td>\n",
              "      <td>1</td>\n",
              "      <td>Yes</td>\n",
              "      <td>62</td>\n",
              "      <td>45614.52</td>\n",
              "    </tr>\n",
              "  </tbody>\n",
              "</table>\n",
              "</div>"
            ],
            "text/plain": [
              "         ID  Store_id Store_Type  ... Discount #Order     Sales\n",
              "0  T1000001         1         S1  ...      Yes      9   7011.84\n",
              "1  T1000002       253         S4  ...      Yes     60  51789.12\n",
              "2  T1000003       252         S3  ...      Yes     42  36868.20\n",
              "3  T1000004       251         S2  ...      Yes     23  19715.16\n",
              "4  T1000005       250         S2  ...      Yes     62  45614.52\n",
              "\n",
              "[5 rows x 10 columns]"
            ]
          },
          "metadata": {},
          "execution_count": 5
        }
      ]
    },
    {
      "cell_type": "code",
      "metadata": {
        "colab": {
          "base_uri": "https://localhost:8080/"
        },
        "id": "DzE9Pk8DggPt",
        "outputId": "d2a89aa3-2e1c-45fa-9990-201921ae115b"
      },
      "source": [
        "df_train.isnull().any()"
      ],
      "execution_count": 6,
      "outputs": [
        {
          "output_type": "execute_result",
          "data": {
            "text/plain": [
              "ID               False\n",
              "Store_id         False\n",
              "Store_Type       False\n",
              "Location_Type    False\n",
              "Region_Code      False\n",
              "Date             False\n",
              "Holiday          False\n",
              "Discount         False\n",
              "#Order           False\n",
              "Sales            False\n",
              "dtype: bool"
            ]
          },
          "metadata": {},
          "execution_count": 6
        }
      ]
    },
    {
      "cell_type": "code",
      "metadata": {
        "colab": {
          "base_uri": "https://localhost:8080/",
          "height": 297
        },
        "id": "goIvF5bxhT7j",
        "outputId": "2c05fb37-4e0b-43f0-b9cb-0b07503312d9"
      },
      "source": [
        "df_train.describe()"
      ],
      "execution_count": 7,
      "outputs": [
        {
          "output_type": "execute_result",
          "data": {
            "text/html": [
              "<div>\n",
              "<style scoped>\n",
              "    .dataframe tbody tr th:only-of-type {\n",
              "        vertical-align: middle;\n",
              "    }\n",
              "\n",
              "    .dataframe tbody tr th {\n",
              "        vertical-align: top;\n",
              "    }\n",
              "\n",
              "    .dataframe thead th {\n",
              "        text-align: right;\n",
              "    }\n",
              "</style>\n",
              "<table border=\"1\" class=\"dataframe\">\n",
              "  <thead>\n",
              "    <tr style=\"text-align: right;\">\n",
              "      <th></th>\n",
              "      <th>Store_id</th>\n",
              "      <th>Holiday</th>\n",
              "      <th>#Order</th>\n",
              "      <th>Sales</th>\n",
              "    </tr>\n",
              "  </thead>\n",
              "  <tbody>\n",
              "    <tr>\n",
              "      <th>count</th>\n",
              "      <td>188340.000000</td>\n",
              "      <td>188340.000000</td>\n",
              "      <td>188340.000000</td>\n",
              "      <td>188340.000000</td>\n",
              "    </tr>\n",
              "    <tr>\n",
              "      <th>mean</th>\n",
              "      <td>183.000000</td>\n",
              "      <td>0.131783</td>\n",
              "      <td>68.205692</td>\n",
              "      <td>42784.327982</td>\n",
              "    </tr>\n",
              "    <tr>\n",
              "      <th>std</th>\n",
              "      <td>105.366308</td>\n",
              "      <td>0.338256</td>\n",
              "      <td>30.467415</td>\n",
              "      <td>18456.708302</td>\n",
              "    </tr>\n",
              "    <tr>\n",
              "      <th>min</th>\n",
              "      <td>1.000000</td>\n",
              "      <td>0.000000</td>\n",
              "      <td>0.000000</td>\n",
              "      <td>0.000000</td>\n",
              "    </tr>\n",
              "    <tr>\n",
              "      <th>25%</th>\n",
              "      <td>92.000000</td>\n",
              "      <td>0.000000</td>\n",
              "      <td>48.000000</td>\n",
              "      <td>30426.000000</td>\n",
              "    </tr>\n",
              "    <tr>\n",
              "      <th>50%</th>\n",
              "      <td>183.000000</td>\n",
              "      <td>0.000000</td>\n",
              "      <td>63.000000</td>\n",
              "      <td>39678.000000</td>\n",
              "    </tr>\n",
              "    <tr>\n",
              "      <th>75%</th>\n",
              "      <td>274.000000</td>\n",
              "      <td>0.000000</td>\n",
              "      <td>82.000000</td>\n",
              "      <td>51909.000000</td>\n",
              "    </tr>\n",
              "    <tr>\n",
              "      <th>max</th>\n",
              "      <td>365.000000</td>\n",
              "      <td>1.000000</td>\n",
              "      <td>371.000000</td>\n",
              "      <td>247215.000000</td>\n",
              "    </tr>\n",
              "  </tbody>\n",
              "</table>\n",
              "</div>"
            ],
            "text/plain": [
              "            Store_id        Holiday         #Order          Sales\n",
              "count  188340.000000  188340.000000  188340.000000  188340.000000\n",
              "mean      183.000000       0.131783      68.205692   42784.327982\n",
              "std       105.366308       0.338256      30.467415   18456.708302\n",
              "min         1.000000       0.000000       0.000000       0.000000\n",
              "25%        92.000000       0.000000      48.000000   30426.000000\n",
              "50%       183.000000       0.000000      63.000000   39678.000000\n",
              "75%       274.000000       0.000000      82.000000   51909.000000\n",
              "max       365.000000       1.000000     371.000000  247215.000000"
            ]
          },
          "metadata": {},
          "execution_count": 7
        }
      ]
    },
    {
      "cell_type": "code",
      "metadata": {
        "colab": {
          "base_uri": "https://localhost:8080/"
        },
        "id": "KAvgLkOSjEp9",
        "outputId": "f4a6b0b8-a4b7-4680-da7d-c4dcd2620818"
      },
      "source": [
        "df_train.info()\n"
      ],
      "execution_count": 8,
      "outputs": [
        {
          "output_type": "stream",
          "name": "stdout",
          "text": [
            "<class 'pandas.core.frame.DataFrame'>\n",
            "RangeIndex: 188340 entries, 0 to 188339\n",
            "Data columns (total 10 columns):\n",
            " #   Column         Non-Null Count   Dtype  \n",
            "---  ------         --------------   -----  \n",
            " 0   ID             188340 non-null  object \n",
            " 1   Store_id       188340 non-null  int64  \n",
            " 2   Store_Type     188340 non-null  object \n",
            " 3   Location_Type  188340 non-null  object \n",
            " 4   Region_Code    188340 non-null  object \n",
            " 5   Date           188340 non-null  object \n",
            " 6   Holiday        188340 non-null  int64  \n",
            " 7   Discount       188340 non-null  object \n",
            " 8   #Order         188340 non-null  int64  \n",
            " 9   Sales          188340 non-null  float64\n",
            "dtypes: float64(1), int64(3), object(6)\n",
            "memory usage: 14.4+ MB\n"
          ]
        }
      ]
    },
    {
      "cell_type": "code",
      "metadata": {
        "id": "222VPI_ly0qS"
      },
      "source": [
        "df_test=pd.read_csv('/content/drive/MyDrive/TEST_FINAL.csv')"
      ],
      "execution_count": 9,
      "outputs": []
    },
    {
      "cell_type": "code",
      "metadata": {
        "colab": {
          "base_uri": "https://localhost:8080/"
        },
        "id": "237FZTw4y06B",
        "outputId": "ce09e35d-8f11-461f-da8c-471ce4e719db"
      },
      "source": [
        "df_test.isnull().any()"
      ],
      "execution_count": 10,
      "outputs": [
        {
          "output_type": "execute_result",
          "data": {
            "text/plain": [
              "ID               False\n",
              "Store_id         False\n",
              "Store_Type       False\n",
              "Location_Type    False\n",
              "Region_Code      False\n",
              "Date             False\n",
              "Holiday          False\n",
              "Discount         False\n",
              "dtype: bool"
            ]
          },
          "metadata": {},
          "execution_count": 10
        }
      ]
    },
    {
      "cell_type": "code",
      "metadata": {
        "colab": {
          "base_uri": "https://localhost:8080/",
          "height": 204
        },
        "id": "cgHUM-h6zFBr",
        "outputId": "226d36b9-8964-4995-fffd-f30ee48f5bee"
      },
      "source": [
        "df_test.head()"
      ],
      "execution_count": 11,
      "outputs": [
        {
          "output_type": "execute_result",
          "data": {
            "text/html": [
              "<div>\n",
              "<style scoped>\n",
              "    .dataframe tbody tr th:only-of-type {\n",
              "        vertical-align: middle;\n",
              "    }\n",
              "\n",
              "    .dataframe tbody tr th {\n",
              "        vertical-align: top;\n",
              "    }\n",
              "\n",
              "    .dataframe thead th {\n",
              "        text-align: right;\n",
              "    }\n",
              "</style>\n",
              "<table border=\"1\" class=\"dataframe\">\n",
              "  <thead>\n",
              "    <tr style=\"text-align: right;\">\n",
              "      <th></th>\n",
              "      <th>ID</th>\n",
              "      <th>Store_id</th>\n",
              "      <th>Store_Type</th>\n",
              "      <th>Location_Type</th>\n",
              "      <th>Region_Code</th>\n",
              "      <th>Date</th>\n",
              "      <th>Holiday</th>\n",
              "      <th>Discount</th>\n",
              "    </tr>\n",
              "  </thead>\n",
              "  <tbody>\n",
              "    <tr>\n",
              "      <th>0</th>\n",
              "      <td>T1188341</td>\n",
              "      <td>171</td>\n",
              "      <td>S4</td>\n",
              "      <td>L2</td>\n",
              "      <td>R3</td>\n",
              "      <td>2019-06-01</td>\n",
              "      <td>0</td>\n",
              "      <td>No</td>\n",
              "    </tr>\n",
              "    <tr>\n",
              "      <th>1</th>\n",
              "      <td>T1188342</td>\n",
              "      <td>172</td>\n",
              "      <td>S1</td>\n",
              "      <td>L1</td>\n",
              "      <td>R1</td>\n",
              "      <td>2019-06-01</td>\n",
              "      <td>0</td>\n",
              "      <td>No</td>\n",
              "    </tr>\n",
              "    <tr>\n",
              "      <th>2</th>\n",
              "      <td>T1188343</td>\n",
              "      <td>173</td>\n",
              "      <td>S4</td>\n",
              "      <td>L2</td>\n",
              "      <td>R1</td>\n",
              "      <td>2019-06-01</td>\n",
              "      <td>0</td>\n",
              "      <td>No</td>\n",
              "    </tr>\n",
              "    <tr>\n",
              "      <th>3</th>\n",
              "      <td>T1188344</td>\n",
              "      <td>174</td>\n",
              "      <td>S1</td>\n",
              "      <td>L1</td>\n",
              "      <td>R4</td>\n",
              "      <td>2019-06-01</td>\n",
              "      <td>0</td>\n",
              "      <td>No</td>\n",
              "    </tr>\n",
              "    <tr>\n",
              "      <th>4</th>\n",
              "      <td>T1188345</td>\n",
              "      <td>170</td>\n",
              "      <td>S1</td>\n",
              "      <td>L1</td>\n",
              "      <td>R2</td>\n",
              "      <td>2019-06-01</td>\n",
              "      <td>0</td>\n",
              "      <td>No</td>\n",
              "    </tr>\n",
              "  </tbody>\n",
              "</table>\n",
              "</div>"
            ],
            "text/plain": [
              "         ID  Store_id Store_Type  ...        Date Holiday Discount\n",
              "0  T1188341       171         S4  ...  2019-06-01       0       No\n",
              "1  T1188342       172         S1  ...  2019-06-01       0       No\n",
              "2  T1188343       173         S4  ...  2019-06-01       0       No\n",
              "3  T1188344       174         S1  ...  2019-06-01       0       No\n",
              "4  T1188345       170         S1  ...  2019-06-01       0       No\n",
              "\n",
              "[5 rows x 8 columns]"
            ]
          },
          "metadata": {},
          "execution_count": 11
        }
      ]
    },
    {
      "cell_type": "code",
      "metadata": {
        "colab": {
          "base_uri": "https://localhost:8080/"
        },
        "id": "gWlx0UOf_YdO",
        "outputId": "4af9a13a-f76a-4e80-ea92-057118b4ab72"
      },
      "source": [
        "df_test.info()"
      ],
      "execution_count": 12,
      "outputs": [
        {
          "output_type": "stream",
          "name": "stdout",
          "text": [
            "<class 'pandas.core.frame.DataFrame'>\n",
            "RangeIndex: 22265 entries, 0 to 22264\n",
            "Data columns (total 8 columns):\n",
            " #   Column         Non-Null Count  Dtype \n",
            "---  ------         --------------  ----- \n",
            " 0   ID             22265 non-null  object\n",
            " 1   Store_id       22265 non-null  int64 \n",
            " 2   Store_Type     22265 non-null  object\n",
            " 3   Location_Type  22265 non-null  object\n",
            " 4   Region_Code    22265 non-null  object\n",
            " 5   Date           22265 non-null  object\n",
            " 6   Holiday        22265 non-null  int64 \n",
            " 7   Discount       22265 non-null  object\n",
            "dtypes: int64(2), object(6)\n",
            "memory usage: 1.4+ MB\n"
          ]
        }
      ]
    },
    {
      "cell_type": "code",
      "metadata": {
        "id": "r0jXf1LR_fml"
      },
      "source": [
        "df_test = pd.get_dummies(df_test, columns=['Store_Type', 'Location_Type','Region_Code'])"
      ],
      "execution_count": 13,
      "outputs": []
    },
    {
      "cell_type": "code",
      "metadata": {
        "id": "c8B-H_pq3tGr",
        "colab": {
          "base_uri": "https://localhost:8080/",
          "height": 325
        },
        "outputId": "b8f0443b-1643-4e8f-ffc7-3e4cffd12a82"
      },
      "source": [
        "plt.figure(figsize=(10,5))\n",
        "sns.heatmap(df_train.corr(),annot=True)\n",
        "plt.show()"
      ],
      "execution_count": 14,
      "outputs": [
        {
          "output_type": "display_data",
          "data": {
            "image/png": "[encoded data removed]",
            "text/plain": [
              "<Figure size 720x360 with 2 Axes>"
            ]
          },
          "metadata": {
            "needs_background": "light"
          }
        }
      ]
    },
    {
      "cell_type": "code",
      "metadata": {
        "colab": {
          "base_uri": "https://localhost:8080/"
        },
        "id": "022X9MV13Elm",
        "outputId": "5e91e281-db8d-4c3c-84d3-e202c02c9a7c"
      },
      "source": [
        "pip install -U klib"
      ],
      "execution_count": 15,
      "outputs": [
        {
          "output_type": "stream",
          "name": "stdout",
          "text": [
            "Collecting klib\n",
            "  Downloading klib-0.2.0-py3-none-any.whl (28 kB)\n",
            "Requirement already satisfied: pandas>=1.1 in /usr/local/lib/python3.7/dist-packages (from klib) (1.1.5)\n",
            "Requirement already satisfied: numpy>=1.15.4 in /usr/local/lib/python3.7/dist-packages (from klib) (1.19.5)\n",
            "Collecting scikit-learn>=0.23\n",
            "  Downloading scikit_learn-0.24.2-cp37-cp37m-manylinux2010_x86_64.whl (22.3 MB)\n",
            "\u001b[K     |████████████████████████████████| 22.3 MB 1.3 MB/s \n",
            "\u001b[?25hRequirement already satisfied: seaborn>=0.11.1 in /usr/local/lib/python3.7/dist-packages (from klib) (0.11.2)\n",
            "Requirement already satisfied: scipy>=1.0.0 in /usr/local/lib/python3.7/dist-packages (from klib) (1.4.1)\n",
            "Requirement already satisfied: matplotlib>=3.0.3 in /usr/local/lib/python3.7/dist-packages (from klib) (3.2.2)\n",
            "Requirement already satisfied: cycler>=0.10 in /usr/local/lib/python3.7/dist-packages (from matplotlib>=3.0.3->klib) (0.10.0)\n",
            "Requirement already satisfied: pyparsing!=2.0.4,!=2.1.2,!=2.1.6,>=2.0.1 in /usr/local/lib/python3.7/dist-packages (from matplotlib>=3.0.3->klib) (2.4.7)\n",
            "Requirement already satisfied: kiwisolver>=1.0.1 in /usr/local/lib/python3.7/dist-packages (from matplotlib>=3.0.3->klib) (1.3.2)\n",
            "Requirement already satisfied: python-dateutil>=2.1 in /usr/local/lib/python3.7/dist-packages (from matplotlib>=3.0.3->klib) (2.8.2)\n",
            "Requirement already satisfied: six in /usr/local/lib/python3.7/dist-packages (from cycler>=0.10->matplotlib>=3.0.3->klib) (1.15.0)\n",
            "Requirement already satisfied: pytz>=2017.2 in /usr/local/lib/python3.7/dist-packages (from pandas>=1.1->klib) (2018.9)\n",
            "Collecting threadpoolctl>=2.0.0\n",
            "  Downloading threadpoolctl-2.2.0-py3-none-any.whl (12 kB)\n",
            "Requirement already satisfied: joblib>=0.11 in /usr/local/lib/python3.7/dist-packages (from scikit-learn>=0.23->klib) (1.0.1)\n",
            "Installing collected packages: threadpoolctl, scikit-learn, klib\n",
            "  Attempting uninstall: scikit-learn\n",
            "    Found existing installation: scikit-learn 0.22.2.post1\n",
            "    Uninstalling scikit-learn-0.22.2.post1:\n",
            "      Successfully uninstalled scikit-learn-0.22.2.post1\n",
            "Successfully installed klib-0.2.0 scikit-learn-0.24.2 threadpoolctl-2.2.0\n"
          ]
        }
      ]
    },
    {
      "cell_type": "code",
      "metadata": {
        "id": "9euHkzje0mTn"
      },
      "source": [
        "import klib"
      ],
      "execution_count": 16,
      "outputs": []
    },
    {
      "cell_type": "code",
      "metadata": {
        "colab": {
          "base_uri": "https://localhost:8080/",
          "height": 863
        },
        "id": "GvjwHHii3NSB",
        "outputId": "7c236f6c-8cff-42d5-9b48-1ac0ce4001e3"
      },
      "source": [
        "klib.cat_plot(df_train) # returns a visualization of the number and frequency of categorical features\n"
      ],
      "execution_count": 17,
      "outputs": [
        {
          "output_type": "execute_result",
          "data": {
            "text/plain": [
              "GridSpec(6, 6)"
            ]
          },
          "metadata": {},
          "execution_count": 17
        },
        {
          "output_type": "display_data",
          "data": {
            "image/png": "[encoded data removed]",
            "text/plain": [
              "<Figure size 1296x1296 with 13 Axes>"
            ]
          },
          "metadata": {
            "needs_background": "light"
          }
        }
      ]
    },
    {
      "cell_type": "code",
      "metadata": {
        "id": "jFLKUllV3lfp",
        "colab": {
          "base_uri": "https://localhost:8080/",
          "height": 124
        },
        "outputId": "358a0118-b05f-4916-9626-eb349378f8a0"
      },
      "source": [
        "klib.corr_mat(df_train) # returns a color-encoded correlation matrix\n",
        "  # returns a color-encoded heatmap, ideal for correlations\n"
      ],
      "execution_count": 18,
      "outputs": [
        {
          "output_type": "execute_result",
          "data": {
            "text/html": [
              "<style  type=\"text/css\" >\n",
              "#T_7f84a7a2_190a_11ec_b1ba_0242ac1c0002row0_col0,#T_7f84a7a2_190a_11ec_b1ba_0242ac1c0002row0_col2,#T_7f84a7a2_190a_11ec_b1ba_0242ac1c0002row0_col3,#T_7f84a7a2_190a_11ec_b1ba_0242ac1c0002row1_col1,#T_7f84a7a2_190a_11ec_b1ba_0242ac1c0002row2_col0,#T_7f84a7a2_190a_11ec_b1ba_0242ac1c0002row2_col2,#T_7f84a7a2_190a_11ec_b1ba_0242ac1c0002row2_col3,#T_7f84a7a2_190a_11ec_b1ba_0242ac1c0002row3_col0,#T_7f84a7a2_190a_11ec_b1ba_0242ac1c0002row3_col2,#T_7f84a7a2_190a_11ec_b1ba_0242ac1c0002row3_col3{\n",
              "            color:  None;\n",
              "        }#T_7f84a7a2_190a_11ec_b1ba_0242ac1c0002row0_col1,#T_7f84a7a2_190a_11ec_b1ba_0242ac1c0002row1_col0,#T_7f84a7a2_190a_11ec_b1ba_0242ac1c0002row1_col2,#T_7f84a7a2_190a_11ec_b1ba_0242ac1c0002row1_col3,#T_7f84a7a2_190a_11ec_b1ba_0242ac1c0002row2_col1,#T_7f84a7a2_190a_11ec_b1ba_0242ac1c0002row3_col1{\n",
              "            color:  #FF3344;\n",
              "        }</style><table id=\"T_7f84a7a2_190a_11ec_b1ba_0242ac1c0002\" ><thead>    <tr>        <th class=\"blank level0\" ></th>        <th class=\"col_heading level0 col0\" >Store_id</th>        <th class=\"col_heading level0 col1\" >Holiday</th>        <th class=\"col_heading level0 col2\" >#Order</th>        <th class=\"col_heading level0 col3\" >Sales</th>    </tr></thead><tbody>\n",
              "                <tr>\n",
              "                        <th id=\"T_7f84a7a2_190a_11ec_b1ba_0242ac1c0002level0_row0\" class=\"row_heading level0 row0\" >Store_id</th>\n",
              "                        <td id=\"T_7f84a7a2_190a_11ec_b1ba_0242ac1c0002row0_col0\" class=\"data row0 col0\" >1.00</td>\n",
              "                        <td id=\"T_7f84a7a2_190a_11ec_b1ba_0242ac1c0002row0_col1\" class=\"data row0 col1\" >-0.00</td>\n",
              "                        <td id=\"T_7f84a7a2_190a_11ec_b1ba_0242ac1c0002row0_col2\" class=\"data row0 col2\" >0.03</td>\n",
              "                        <td id=\"T_7f84a7a2_190a_11ec_b1ba_0242ac1c0002row0_col3\" class=\"data row0 col3\" >0.00</td>\n",
              "            </tr>\n",
              "            <tr>\n",
              "                        <th id=\"T_7f84a7a2_190a_11ec_b1ba_0242ac1c0002level0_row1\" class=\"row_heading level0 row1\" >Holiday</th>\n",
              "                        <td id=\"T_7f84a7a2_190a_11ec_b1ba_0242ac1c0002row1_col0\" class=\"data row1 col0\" >-0.00</td>\n",
              "                        <td id=\"T_7f84a7a2_190a_11ec_b1ba_0242ac1c0002row1_col1\" class=\"data row1 col1\" >1.00</td>\n",
              "                        <td id=\"T_7f84a7a2_190a_11ec_b1ba_0242ac1c0002row1_col2\" class=\"data row1 col2\" >-0.14</td>\n",
              "                        <td id=\"T_7f84a7a2_190a_11ec_b1ba_0242ac1c0002row1_col3\" class=\"data row1 col3\" >-0.15</td>\n",
              "            </tr>\n",
              "            <tr>\n",
              "                        <th id=\"T_7f84a7a2_190a_11ec_b1ba_0242ac1c0002level0_row2\" class=\"row_heading level0 row2\" >#Order</th>\n",
              "                        <td id=\"T_7f84a7a2_190a_11ec_b1ba_0242ac1c0002row2_col0\" class=\"data row2 col0\" >0.03</td>\n",
              "                        <td id=\"T_7f84a7a2_190a_11ec_b1ba_0242ac1c0002row2_col1\" class=\"data row2 col1\" >-0.14</td>\n",
              "                        <td id=\"T_7f84a7a2_190a_11ec_b1ba_0242ac1c0002row2_col2\" class=\"data row2 col2\" >1.00</td>\n",
              "                        <td id=\"T_7f84a7a2_190a_11ec_b1ba_0242ac1c0002row2_col3\" class=\"data row2 col3\" >0.94</td>\n",
              "            </tr>\n",
              "            <tr>\n",
              "                        <th id=\"T_7f84a7a2_190a_11ec_b1ba_0242ac1c0002level0_row3\" class=\"row_heading level0 row3\" >Sales</th>\n",
              "                        <td id=\"T_7f84a7a2_190a_11ec_b1ba_0242ac1c0002row3_col0\" class=\"data row3 col0\" >0.00</td>\n",
              "                        <td id=\"T_7f84a7a2_190a_11ec_b1ba_0242ac1c0002row3_col1\" class=\"data row3 col1\" >-0.15</td>\n",
              "                        <td id=\"T_7f84a7a2_190a_11ec_b1ba_0242ac1c0002row3_col2\" class=\"data row3 col2\" >0.94</td>\n",
              "                        <td id=\"T_7f84a7a2_190a_11ec_b1ba_0242ac1c0002row3_col3\" class=\"data row3 col3\" >1.00</td>\n",
              "            </tr>\n",
              "    </tbody></table>"
            ],
            "text/plain": [
              "<pandas.io.formats.style.Styler at 0x7fb41741d950>"
            ]
          },
          "metadata": {},
          "execution_count": 18
        }
      ]
    },
    {
      "cell_type": "code",
      "metadata": {
        "id": "r4V7r2ytbjL3",
        "colab": {
          "base_uri": "https://localhost:8080/",
          "height": 629
        },
        "outputId": "37b40e57-4696-4fb0-aed6-99b8509a49a2"
      },
      "source": [
        "klib.corr_plot(df_train)"
      ],
      "execution_count": 19,
      "outputs": [
        {
          "output_type": "execute_result",
          "data": {
            "text/plain": [
              "<matplotlib.axes._subplots.AxesSubplot at 0x7fb4173dc4d0>"
            ]
          },
          "metadata": {},
          "execution_count": 19
        },
        {
          "output_type": "display_data",
          "data": {
            "image/png": "[encoded data removed]",
            "text/plain": [
              "<Figure size 864x720 with 2 Axes>"
            ]
          },
          "metadata": {
            "needs_background": "light"
          }
        }
      ]
    },
    {
      "cell_type": "code",
      "metadata": {
        "id": "v092QzcVblFj",
        "colab": {
          "base_uri": "https://localhost:8080/",
          "height": 567
        },
        "outputId": "1b37a1f0-cbf3-4749-9ef0-d387dacebfad"
      },
      "source": [
        " klib.dist_plot(df_train)"
      ],
      "execution_count": 20,
      "outputs": [
        {
          "output_type": "stream",
          "name": "stdout",
          "text": [
            "Large dataset detected, using 10000 random samples for the plots. Summary statistics are still based on the entire dataset.\n"
          ]
        },
        {
          "output_type": "execute_result",
          "data": {
            "text/plain": [
              "<matplotlib.axes._subplots.AxesSubplot at 0x7fb4136a17d0>"
            ]
          },
          "metadata": {},
          "execution_count": 20
        },
        {
          "output_type": "display_data",
          "data": {
            "image/png": "[encoded data removed]",
            "text/plain": [
              "<Figure size 900x180 with 1 Axes>"
            ]
          },
          "metadata": {
            "needs_background": "light"
          }
        },
        {
          "output_type": "display_data",
          "data": {
            "image/png": "[encoded data removed]",
            "text/plain": [
              "<Figure size 900x180 with 1 Axes>"
            ]
          },
          "metadata": {
            "needs_background": "light"
          }
        },
        {
          "output_type": "display_data",
          "data": {
            "image/png": "[encoded data removed]",
            "text/plain": [
              "<Figure size 900x180 with 1 Axes>"
            ]
          },
          "metadata": {
            "needs_background": "light"
          }
        }
      ]
    },
    {
      "cell_type": "code",
      "metadata": {
        "id": "hZ16mUhxoTZ8",
        "colab": {
          "base_uri": "https://localhost:8080/"
        },
        "outputId": "6e2eda67-4364-4ebc-aa2f-d63dc1eddb95"
      },
      "source": [
        "df_train['Date'] = pd.to_datetime(df_train['Date'])\n",
        "df_train.info()"
      ],
      "execution_count": 28,
      "outputs": [
        {
          "output_type": "stream",
          "name": "stdout",
          "text": [
            "<class 'pandas.core.frame.DataFrame'>\n",
            "RangeIndex: 188340 entries, 0 to 188339\n",
            "Data columns (total 10 columns):\n",
            " #   Column         Non-Null Count   Dtype         \n",
            "---  ------         --------------   -----         \n",
            " 0   ID             188340 non-null  object        \n",
            " 1   Store_id       188340 non-null  int64         \n",
            " 2   Store_Type     188340 non-null  object        \n",
            " 3   Location_Type  188340 non-null  object        \n",
            " 4   Region_Code    188340 non-null  object        \n",
            " 5   Date           188340 non-null  datetime64[ns]\n",
            " 6   Holiday        188340 non-null  int64         \n",
            " 7   Discount       188340 non-null  object        \n",
            " 8   #Order         188340 non-null  int64         \n",
            " 9   Sales          188340 non-null  float64       \n",
            "dtypes: datetime64[ns](1), float64(1), int64(3), object(5)\n",
            "memory usage: 14.4+ MB\n"
          ]
        }
      ]
    },
    {
      "cell_type": "code",
      "metadata": {
        "colab": {
          "base_uri": "https://localhost:8080/"
        },
        "id": "vshZaCIEhkHd",
        "outputId": "fd08c611-a691-4b6f-d278-0fc307c7ce8e"
      },
      "source": [
        "df_test['Date'] = pd.to_datetime(df_test['Date'])\n",
        "df_test.info()"
      ],
      "execution_count": 26,
      "outputs": [
        {
          "output_type": "stream",
          "name": "stdout",
          "text": [
            "<class 'pandas.core.frame.DataFrame'>\n",
            "RangeIndex: 22265 entries, 0 to 22264\n",
            "Data columns (total 18 columns):\n",
            " #   Column            Non-Null Count  Dtype         \n",
            "---  ------            --------------  -----         \n",
            " 0   ID                22265 non-null  object        \n",
            " 1   Store_id          22265 non-null  int64         \n",
            " 2   Date              22265 non-null  datetime64[ns]\n",
            " 3   Holiday           22265 non-null  int64         \n",
            " 4   Discount          22265 non-null  object        \n",
            " 5   Store_Type_S1     22265 non-null  uint8         \n",
            " 6   Store_Type_S2     22265 non-null  uint8         \n",
            " 7   Store_Type_S3     22265 non-null  uint8         \n",
            " 8   Store_Type_S4     22265 non-null  uint8         \n",
            " 9   Location_Type_L1  22265 non-null  uint8         \n",
            " 10  Location_Type_L2  22265 non-null  uint8         \n",
            " 11  Location_Type_L3  22265 non-null  uint8         \n",
            " 12  Location_Type_L4  22265 non-null  uint8         \n",
            " 13  Location_Type_L5  22265 non-null  uint8         \n",
            " 14  Region_Code_R1    22265 non-null  uint8         \n",
            " 15  Region_Code_R2    22265 non-null  uint8         \n",
            " 16  Region_Code_R3    22265 non-null  uint8         \n",
            " 17  Region_Code_R4    22265 non-null  uint8         \n",
            "dtypes: datetime64[ns](1), int64(2), object(2), uint8(13)\n",
            "memory usage: 1.1+ MB\n"
          ]
        }
      ]
    },
    {
      "cell_type": "code",
      "metadata": {
        "id": "_4dZQWm4qjez",
        "colab": {
          "base_uri": "https://localhost:8080/",
          "height": 537
        },
        "outputId": "85bb78c1-f932-4ac1-c320-b64f2e4c056b"
      },
      "source": [
        "fig = plt.figure(figsize=(17,8))\n",
        "ax1 = fig.add_subplot(121)\n",
        "\n",
        "plt.scatter(df_train['Date'],df_train[\"Sales\"],s=20)\n",
        "plt.title(\"Sales Data Time Series\",fontsize=15)\n",
        "plt.xlabel(\"Date\",fontsize=15)\n",
        "plt.ylabel(\"Sales\",fontsize=15)"
      ],
      "execution_count": 23,
      "outputs": [
        {
          "output_type": "execute_result",
          "data": {
            "text/plain": [
              "Text(0, 0.5, 'Sales')"
            ]
          },
          "metadata": {},
          "execution_count": 23
        },
        {
          "output_type": "display_data",
          "data": {
            "image/png": "[encoded data removed]",
            "text/plain": [
              "<Figure size 1224x576 with 1 Axes>"
            ]
          },
          "metadata": {
            "needs_background": "light"
          }
        }
      ]
    },
    {
      "cell_type": "code",
      "metadata": {
        "id": "H9Bbk5cucd6v",
        "colab": {
          "base_uri": "https://localhost:8080/"
        },
        "outputId": "6e5884f9-6f82-4992-8851-4aaeeef7f81e"
      },
      "source": [
        "#df_train=klib.convert_datatypes(df_train)\n",
        "df_train.info()"
      ],
      "execution_count": 24,
      "outputs": [
        {
          "output_type": "stream",
          "name": "stdout",
          "text": [
            "<class 'pandas.core.frame.DataFrame'>\n",
            "RangeIndex: 188340 entries, 0 to 188339\n",
            "Data columns (total 10 columns):\n",
            " #   Column         Non-Null Count   Dtype  \n",
            "---  ------         --------------   -----  \n",
            " 0   ID             188340 non-null  object \n",
            " 1   Store_id       188340 non-null  int64  \n",
            " 2   Store_Type     188340 non-null  object \n",
            " 3   Location_Type  188340 non-null  object \n",
            " 4   Region_Code    188340 non-null  object \n",
            " 5   Date           188340 non-null  object \n",
            " 6   Holiday        188340 non-null  int64  \n",
            " 7   Discount       188340 non-null  object \n",
            " 8   #Order         188340 non-null  int64  \n",
            " 9   Sales          188340 non-null  float64\n",
            "dtypes: float64(1), int64(3), object(6)\n",
            "memory usage: 14.4+ MB\n"
          ]
        }
      ]
    },
    {
      "cell_type": "code",
      "metadata": {
        "id": "JNspqXeA73_E",
        "colab": {
          "base_uri": "https://localhost:8080/",
          "height": 204
        },
        "outputId": "6d69d240-027e-4248-f2d4-ae79c38d58d1"
      },
      "source": [
        "df_train.head()\n"
      ],
      "execution_count": 30,
      "outputs": [
        {
          "output_type": "execute_result",
          "data": {
            "text/html": [
              "<div>\n",
              "<style scoped>\n",
              "    .dataframe tbody tr th:only-of-type {\n",
              "        vertical-align: middle;\n",
              "    }\n",
              "\n",
              "    .dataframe tbody tr th {\n",
              "        vertical-align: top;\n",
              "    }\n",
              "\n",
              "    .dataframe thead th {\n",
              "        text-align: right;\n",
              "    }\n",
              "</style>\n",
              "<table border=\"1\" class=\"dataframe\">\n",
              "  <thead>\n",
              "    <tr style=\"text-align: right;\">\n",
              "      <th></th>\n",
              "      <th>ID</th>\n",
              "      <th>Store_id</th>\n",
              "      <th>Store_Type</th>\n",
              "      <th>Location_Type</th>\n",
              "      <th>Region_Code</th>\n",
              "      <th>Date</th>\n",
              "      <th>Holiday</th>\n",
              "      <th>Discount</th>\n",
              "      <th>#Order</th>\n",
              "      <th>Sales</th>\n",
              "    </tr>\n",
              "  </thead>\n",
              "  <tbody>\n",
              "    <tr>\n",
              "      <th>0</th>\n",
              "      <td>T1000001</td>\n",
              "      <td>1</td>\n",
              "      <td>S1</td>\n",
              "      <td>L3</td>\n",
              "      <td>R1</td>\n",
              "      <td>2018-01-01</td>\n",
              "      <td>1</td>\n",
              "      <td>Yes</td>\n",
              "      <td>9</td>\n",
              "      <td>7011.84</td>\n",
              "    </tr>\n",
              "    <tr>\n",
              "      <th>1</th>\n",
              "      <td>T1000002</td>\n",
              "      <td>253</td>\n",
              "      <td>S4</td>\n",
              "      <td>L2</td>\n",
              "      <td>R1</td>\n",
              "      <td>2018-01-01</td>\n",
              "      <td>1</td>\n",
              "      <td>Yes</td>\n",
              "      <td>60</td>\n",
              "      <td>51789.12</td>\n",
              "    </tr>\n",
              "    <tr>\n",
              "      <th>2</th>\n",
              "      <td>T1000003</td>\n",
              "      <td>252</td>\n",
              "      <td>S3</td>\n",
              "      <td>L2</td>\n",
              "      <td>R1</td>\n",
              "      <td>2018-01-01</td>\n",
              "      <td>1</td>\n",
              "      <td>Yes</td>\n",
              "      <td>42</td>\n",
              "      <td>36868.20</td>\n",
              "    </tr>\n",
              "    <tr>\n",
              "      <th>3</th>\n",
              "      <td>T1000004</td>\n",
              "      <td>251</td>\n",
              "      <td>S2</td>\n",
              "      <td>L3</td>\n",
              "      <td>R1</td>\n",
              "      <td>2018-01-01</td>\n",
              "      <td>1</td>\n",
              "      <td>Yes</td>\n",
              "      <td>23</td>\n",
              "      <td>19715.16</td>\n",
              "    </tr>\n",
              "    <tr>\n",
              "      <th>4</th>\n",
              "      <td>T1000005</td>\n",
              "      <td>250</td>\n",
              "      <td>S2</td>\n",
              "      <td>L3</td>\n",
              "      <td>R4</td>\n",
              "      <td>2018-01-01</td>\n",
              "      <td>1</td>\n",
              "      <td>Yes</td>\n",
              "      <td>62</td>\n",
              "      <td>45614.52</td>\n",
              "    </tr>\n",
              "  </tbody>\n",
              "</table>\n",
              "</div>"
            ],
            "text/plain": [
              "         ID  Store_id Store_Type  ... Discount #Order     Sales\n",
              "0  T1000001         1         S1  ...      Yes      9   7011.84\n",
              "1  T1000002       253         S4  ...      Yes     60  51789.12\n",
              "2  T1000003       252         S3  ...      Yes     42  36868.20\n",
              "3  T1000004       251         S2  ...      Yes     23  19715.16\n",
              "4  T1000005       250         S2  ...      Yes     62  45614.52\n",
              "\n",
              "[5 rows x 10 columns]"
            ]
          },
          "metadata": {},
          "execution_count": 30
        }
      ]
    },
    {
      "cell_type": "code",
      "metadata": {
        "id": "W7nJMdXfDwUn",
        "colab": {
          "base_uri": "https://localhost:8080/",
          "height": 779
        },
        "outputId": "de00171f-6293-4a89-cc71-18a11bf6e5df"
      },
      "source": [
        "klib.data_cleaning(df_train)"
      ],
      "execution_count": 31,
      "outputs": [
        {
          "output_type": "stream",
          "name": "stdout",
          "text": [
            "Shape of cleaned data: (188340, 10)Remaining NAs: 0\n",
            "\n",
            "Changes:\n",
            "Dropped rows: 0\n",
            "     of which 0 duplicates. (Rows: [])\n",
            "Dropped columns: 0\n",
            "     of which 0 single valued.     Columns: []\n",
            "Dropped missing values: 0\n",
            "Reduced memory by at least: 9.16 MB (-63.74%)\n",
            "\n"
          ]
        },
        {
          "output_type": "execute_result",
          "data": {
            "text/html": [
              "<div>\n",
              "<style scoped>\n",
              "    .dataframe tbody tr th:only-of-type {\n",
              "        vertical-align: middle;\n",
              "    }\n",
              "\n",
              "    .dataframe tbody tr th {\n",
              "        vertical-align: top;\n",
              "    }\n",
              "\n",
              "    .dataframe thead th {\n",
              "        text-align: right;\n",
              "    }\n",
              "</style>\n",
              "<table border=\"1\" class=\"dataframe\">\n",
              "  <thead>\n",
              "    <tr style=\"text-align: right;\">\n",
              "      <th></th>\n",
              "      <th>id</th>\n",
              "      <th>store_id</th>\n",
              "      <th>store_type</th>\n",
              "      <th>location_type</th>\n",
              "      <th>region_code</th>\n",
              "      <th>date</th>\n",
              "      <th>holiday</th>\n",
              "      <th>discount</th>\n",
              "      <th>hash_order</th>\n",
              "      <th>sales</th>\n",
              "    </tr>\n",
              "  </thead>\n",
              "  <tbody>\n",
              "    <tr>\n",
              "      <th>0</th>\n",
              "      <td>T1000001</td>\n",
              "      <td>1</td>\n",
              "      <td>S1</td>\n",
              "      <td>L3</td>\n",
              "      <td>R1</td>\n",
              "      <td>2018-01-01</td>\n",
              "      <td>1</td>\n",
              "      <td>Yes</td>\n",
              "      <td>9</td>\n",
              "      <td>7011.839844</td>\n",
              "    </tr>\n",
              "    <tr>\n",
              "      <th>1</th>\n",
              "      <td>T1000002</td>\n",
              "      <td>253</td>\n",
              "      <td>S4</td>\n",
              "      <td>L2</td>\n",
              "      <td>R1</td>\n",
              "      <td>2018-01-01</td>\n",
              "      <td>1</td>\n",
              "      <td>Yes</td>\n",
              "      <td>60</td>\n",
              "      <td>51789.121094</td>\n",
              "    </tr>\n",
              "    <tr>\n",
              "      <th>2</th>\n",
              "      <td>T1000003</td>\n",
              "      <td>252</td>\n",
              "      <td>S3</td>\n",
              "      <td>L2</td>\n",
              "      <td>R1</td>\n",
              "      <td>2018-01-01</td>\n",
              "      <td>1</td>\n",
              "      <td>Yes</td>\n",
              "      <td>42</td>\n",
              "      <td>36868.199219</td>\n",
              "    </tr>\n",
              "    <tr>\n",
              "      <th>3</th>\n",
              "      <td>T1000004</td>\n",
              "      <td>251</td>\n",
              "      <td>S2</td>\n",
              "      <td>L3</td>\n",
              "      <td>R1</td>\n",
              "      <td>2018-01-01</td>\n",
              "      <td>1</td>\n",
              "      <td>Yes</td>\n",
              "      <td>23</td>\n",
              "      <td>19715.160156</td>\n",
              "    </tr>\n",
              "    <tr>\n",
              "      <th>4</th>\n",
              "      <td>T1000005</td>\n",
              "      <td>250</td>\n",
              "      <td>S2</td>\n",
              "      <td>L3</td>\n",
              "      <td>R4</td>\n",
              "      <td>2018-01-01</td>\n",
              "      <td>1</td>\n",
              "      <td>Yes</td>\n",
              "      <td>62</td>\n",
              "      <td>45614.519531</td>\n",
              "    </tr>\n",
              "    <tr>\n",
              "      <th>...</th>\n",
              "      <td>...</td>\n",
              "      <td>...</td>\n",
              "      <td>...</td>\n",
              "      <td>...</td>\n",
              "      <td>...</td>\n",
              "      <td>...</td>\n",
              "      <td>...</td>\n",
              "      <td>...</td>\n",
              "      <td>...</td>\n",
              "      <td>...</td>\n",
              "    </tr>\n",
              "    <tr>\n",
              "      <th>188335</th>\n",
              "      <td>T1188336</td>\n",
              "      <td>149</td>\n",
              "      <td>S2</td>\n",
              "      <td>L3</td>\n",
              "      <td>R2</td>\n",
              "      <td>2019-05-31</td>\n",
              "      <td>1</td>\n",
              "      <td>Yes</td>\n",
              "      <td>51</td>\n",
              "      <td>37272.000000</td>\n",
              "    </tr>\n",
              "    <tr>\n",
              "      <th>188336</th>\n",
              "      <td>T1188337</td>\n",
              "      <td>153</td>\n",
              "      <td>S4</td>\n",
              "      <td>L2</td>\n",
              "      <td>R1</td>\n",
              "      <td>2019-05-31</td>\n",
              "      <td>1</td>\n",
              "      <td>No</td>\n",
              "      <td>90</td>\n",
              "      <td>54572.640625</td>\n",
              "    </tr>\n",
              "    <tr>\n",
              "      <th>188337</th>\n",
              "      <td>T1188338</td>\n",
              "      <td>154</td>\n",
              "      <td>S1</td>\n",
              "      <td>L3</td>\n",
              "      <td>R2</td>\n",
              "      <td>2019-05-31</td>\n",
              "      <td>1</td>\n",
              "      <td>No</td>\n",
              "      <td>56</td>\n",
              "      <td>31624.560547</td>\n",
              "    </tr>\n",
              "    <tr>\n",
              "      <th>188338</th>\n",
              "      <td>T1188339</td>\n",
              "      <td>155</td>\n",
              "      <td>S3</td>\n",
              "      <td>L1</td>\n",
              "      <td>R2</td>\n",
              "      <td>2019-05-31</td>\n",
              "      <td>1</td>\n",
              "      <td>Yes</td>\n",
              "      <td>70</td>\n",
              "      <td>49162.410156</td>\n",
              "    </tr>\n",
              "    <tr>\n",
              "      <th>188339</th>\n",
              "      <td>T1188340</td>\n",
              "      <td>152</td>\n",
              "      <td>S2</td>\n",
              "      <td>L1</td>\n",
              "      <td>R1</td>\n",
              "      <td>2019-05-31</td>\n",
              "      <td>1</td>\n",
              "      <td>No</td>\n",
              "      <td>47</td>\n",
              "      <td>37977.000000</td>\n",
              "    </tr>\n",
              "  </tbody>\n",
              "</table>\n",
              "<p>188340 rows × 10 columns</p>\n",
              "</div>"
            ],
            "text/plain": [
              "              id  store_id store_type  ... discount hash_order         sales\n",
              "0       T1000001         1         S1  ...      Yes          9   7011.839844\n",
              "1       T1000002       253         S4  ...      Yes         60  51789.121094\n",
              "2       T1000003       252         S3  ...      Yes         42  36868.199219\n",
              "3       T1000004       251         S2  ...      Yes         23  19715.160156\n",
              "4       T1000005       250         S2  ...      Yes         62  45614.519531\n",
              "...          ...       ...        ...  ...      ...        ...           ...\n",
              "188335  T1188336       149         S2  ...      Yes         51  37272.000000\n",
              "188336  T1188337       153         S4  ...       No         90  54572.640625\n",
              "188337  T1188338       154         S1  ...       No         56  31624.560547\n",
              "188338  T1188339       155         S3  ...      Yes         70  49162.410156\n",
              "188339  T1188340       152         S2  ...       No         47  37977.000000\n",
              "\n",
              "[188340 rows x 10 columns]"
            ]
          },
          "metadata": {},
          "execution_count": 31
        }
      ]
    },
    {
      "cell_type": "code",
      "metadata": {
        "id": "mepwHTteE0jx",
        "colab": {
          "base_uri": "https://localhost:8080/",
          "height": 779
        },
        "outputId": "78deb2a5-c593-4e78-b5dd-a28a3ae24c05"
      },
      "source": [
        "klib.data_cleaning(df_test)"
      ],
      "execution_count": 32,
      "outputs": [
        {
          "output_type": "stream",
          "name": "stdout",
          "text": [
            "Shape of cleaned data: (22265, 18)Remaining NAs: 0\n",
            "\n",
            "Changes:\n",
            "Dropped rows: 0\n",
            "     of which 0 duplicates. (Rows: [])\n",
            "Dropped columns: 0\n",
            "     of which 0 single valued.     Columns: []\n",
            "Dropped missing values: 0\n",
            "Reduced memory by at least: 0.43 MB (-38.05%)\n",
            "\n"
          ]
        },
        {
          "output_type": "execute_result",
          "data": {
            "text/html": [
              "<div>\n",
              "<style scoped>\n",
              "    .dataframe tbody tr th:only-of-type {\n",
              "        vertical-align: middle;\n",
              "    }\n",
              "\n",
              "    .dataframe tbody tr th {\n",
              "        vertical-align: top;\n",
              "    }\n",
              "\n",
              "    .dataframe thead th {\n",
              "        text-align: right;\n",
              "    }\n",
              "</style>\n",
              "<table border=\"1\" class=\"dataframe\">\n",
              "  <thead>\n",
              "    <tr style=\"text-align: right;\">\n",
              "      <th></th>\n",
              "      <th>id</th>\n",
              "      <th>store_id</th>\n",
              "      <th>date</th>\n",
              "      <th>holiday</th>\n",
              "      <th>discount</th>\n",
              "      <th>store_type_s1</th>\n",
              "      <th>store_type_s2</th>\n",
              "      <th>store_type_s3</th>\n",
              "      <th>store_type_s4</th>\n",
              "      <th>location_type_l1</th>\n",
              "      <th>location_type_l2</th>\n",
              "      <th>location_type_l3</th>\n",
              "      <th>location_type_l4</th>\n",
              "      <th>location_type_l5</th>\n",
              "      <th>region_code_r1</th>\n",
              "      <th>region_code_r2</th>\n",
              "      <th>region_code_r3</th>\n",
              "      <th>region_code_r4</th>\n",
              "    </tr>\n",
              "  </thead>\n",
              "  <tbody>\n",
              "    <tr>\n",
              "      <th>0</th>\n",
              "      <td>T1188341</td>\n",
              "      <td>171</td>\n",
              "      <td>2019-06-01</td>\n",
              "      <td>0</td>\n",
              "      <td>No</td>\n",
              "      <td>0</td>\n",
              "      <td>0</td>\n",
              "      <td>0</td>\n",
              "      <td>1</td>\n",
              "      <td>0</td>\n",
              "      <td>1</td>\n",
              "      <td>0</td>\n",
              "      <td>0</td>\n",
              "      <td>0</td>\n",
              "      <td>0</td>\n",
              "      <td>0</td>\n",
              "      <td>1</td>\n",
              "      <td>0</td>\n",
              "    </tr>\n",
              "    <tr>\n",
              "      <th>1</th>\n",
              "      <td>T1188342</td>\n",
              "      <td>172</td>\n",
              "      <td>2019-06-01</td>\n",
              "      <td>0</td>\n",
              "      <td>No</td>\n",
              "      <td>1</td>\n",
              "      <td>0</td>\n",
              "      <td>0</td>\n",
              "      <td>0</td>\n",
              "      <td>1</td>\n",
              "      <td>0</td>\n",
              "      <td>0</td>\n",
              "      <td>0</td>\n",
              "      <td>0</td>\n",
              "      <td>1</td>\n",
              "      <td>0</td>\n",
              "      <td>0</td>\n",
              "      <td>0</td>\n",
              "    </tr>\n",
              "    <tr>\n",
              "      <th>2</th>\n",
              "      <td>T1188343</td>\n",
              "      <td>173</td>\n",
              "      <td>2019-06-01</td>\n",
              "      <td>0</td>\n",
              "      <td>No</td>\n",
              "      <td>0</td>\n",
              "      <td>0</td>\n",
              "      <td>0</td>\n",
              "      <td>1</td>\n",
              "      <td>0</td>\n",
              "      <td>1</td>\n",
              "      <td>0</td>\n",
              "      <td>0</td>\n",
              "      <td>0</td>\n",
              "      <td>1</td>\n",
              "      <td>0</td>\n",
              "      <td>0</td>\n",
              "      <td>0</td>\n",
              "    </tr>\n",
              "    <tr>\n",
              "      <th>3</th>\n",
              "      <td>T1188344</td>\n",
              "      <td>174</td>\n",
              "      <td>2019-06-01</td>\n",
              "      <td>0</td>\n",
              "      <td>No</td>\n",
              "      <td>1</td>\n",
              "      <td>0</td>\n",
              "      <td>0</td>\n",
              "      <td>0</td>\n",
              "      <td>1</td>\n",
              "      <td>0</td>\n",
              "      <td>0</td>\n",
              "      <td>0</td>\n",
              "      <td>0</td>\n",
              "      <td>0</td>\n",
              "      <td>0</td>\n",
              "      <td>0</td>\n",
              "      <td>1</td>\n",
              "    </tr>\n",
              "    <tr>\n",
              "      <th>4</th>\n",
              "      <td>T1188345</td>\n",
              "      <td>170</td>\n",
              "      <td>2019-06-01</td>\n",
              "      <td>0</td>\n",
              "      <td>No</td>\n",
              "      <td>1</td>\n",
              "      <td>0</td>\n",
              "      <td>0</td>\n",
              "      <td>0</td>\n",
              "      <td>1</td>\n",
              "      <td>0</td>\n",
              "      <td>0</td>\n",
              "      <td>0</td>\n",
              "      <td>0</td>\n",
              "      <td>0</td>\n",
              "      <td>1</td>\n",
              "      <td>0</td>\n",
              "      <td>0</td>\n",
              "    </tr>\n",
              "    <tr>\n",
              "      <th>...</th>\n",
              "      <td>...</td>\n",
              "      <td>...</td>\n",
              "      <td>...</td>\n",
              "      <td>...</td>\n",
              "      <td>...</td>\n",
              "      <td>...</td>\n",
              "      <td>...</td>\n",
              "      <td>...</td>\n",
              "      <td>...</td>\n",
              "      <td>...</td>\n",
              "      <td>...</td>\n",
              "      <td>...</td>\n",
              "      <td>...</td>\n",
              "      <td>...</td>\n",
              "      <td>...</td>\n",
              "      <td>...</td>\n",
              "      <td>...</td>\n",
              "      <td>...</td>\n",
              "    </tr>\n",
              "    <tr>\n",
              "      <th>22260</th>\n",
              "      <td>T1210601</td>\n",
              "      <td>186</td>\n",
              "      <td>2019-07-31</td>\n",
              "      <td>0</td>\n",
              "      <td>No</td>\n",
              "      <td>0</td>\n",
              "      <td>1</td>\n",
              "      <td>0</td>\n",
              "      <td>0</td>\n",
              "      <td>0</td>\n",
              "      <td>0</td>\n",
              "      <td>0</td>\n",
              "      <td>0</td>\n",
              "      <td>1</td>\n",
              "      <td>0</td>\n",
              "      <td>1</td>\n",
              "      <td>0</td>\n",
              "      <td>0</td>\n",
              "    </tr>\n",
              "    <tr>\n",
              "      <th>22261</th>\n",
              "      <td>T1210602</td>\n",
              "      <td>11</td>\n",
              "      <td>2019-07-31</td>\n",
              "      <td>0</td>\n",
              "      <td>No</td>\n",
              "      <td>0</td>\n",
              "      <td>0</td>\n",
              "      <td>0</td>\n",
              "      <td>1</td>\n",
              "      <td>0</td>\n",
              "      <td>1</td>\n",
              "      <td>0</td>\n",
              "      <td>0</td>\n",
              "      <td>0</td>\n",
              "      <td>1</td>\n",
              "      <td>0</td>\n",
              "      <td>0</td>\n",
              "      <td>0</td>\n",
              "    </tr>\n",
              "    <tr>\n",
              "      <th>22262</th>\n",
              "      <td>T1210603</td>\n",
              "      <td>185</td>\n",
              "      <td>2019-07-31</td>\n",
              "      <td>0</td>\n",
              "      <td>Yes</td>\n",
              "      <td>1</td>\n",
              "      <td>0</td>\n",
              "      <td>0</td>\n",
              "      <td>0</td>\n",
              "      <td>1</td>\n",
              "      <td>0</td>\n",
              "      <td>0</td>\n",
              "      <td>0</td>\n",
              "      <td>0</td>\n",
              "      <td>0</td>\n",
              "      <td>0</td>\n",
              "      <td>1</td>\n",
              "      <td>0</td>\n",
              "    </tr>\n",
              "    <tr>\n",
              "      <th>22263</th>\n",
              "      <td>T1210604</td>\n",
              "      <td>69</td>\n",
              "      <td>2019-07-31</td>\n",
              "      <td>0</td>\n",
              "      <td>No</td>\n",
              "      <td>1</td>\n",
              "      <td>0</td>\n",
              "      <td>0</td>\n",
              "      <td>0</td>\n",
              "      <td>1</td>\n",
              "      <td>0</td>\n",
              "      <td>0</td>\n",
              "      <td>0</td>\n",
              "      <td>0</td>\n",
              "      <td>0</td>\n",
              "      <td>0</td>\n",
              "      <td>0</td>\n",
              "      <td>1</td>\n",
              "    </tr>\n",
              "    <tr>\n",
              "      <th>22264</th>\n",
              "      <td>T1210605</td>\n",
              "      <td>365</td>\n",
              "      <td>2019-07-31</td>\n",
              "      <td>0</td>\n",
              "      <td>No</td>\n",
              "      <td>0</td>\n",
              "      <td>1</td>\n",
              "      <td>0</td>\n",
              "      <td>0</td>\n",
              "      <td>1</td>\n",
              "      <td>0</td>\n",
              "      <td>0</td>\n",
              "      <td>0</td>\n",
              "      <td>0</td>\n",
              "      <td>0</td>\n",
              "      <td>1</td>\n",
              "      <td>0</td>\n",
              "      <td>0</td>\n",
              "    </tr>\n",
              "  </tbody>\n",
              "</table>\n",
              "<p>22265 rows × 18 columns</p>\n",
              "</div>"
            ],
            "text/plain": [
              "             id  store_id  ... region_code_r3  region_code_r4\n",
              "0      T1188341       171  ...              1               0\n",
              "1      T1188342       172  ...              0               0\n",
              "2      T1188343       173  ...              0               0\n",
              "3      T1188344       174  ...              0               1\n",
              "4      T1188345       170  ...              0               0\n",
              "...         ...       ...  ...            ...             ...\n",
              "22260  T1210601       186  ...              0               0\n",
              "22261  T1210602        11  ...              0               0\n",
              "22262  T1210603       185  ...              1               0\n",
              "22263  T1210604        69  ...              0               1\n",
              "22264  T1210605       365  ...              0               0\n",
              "\n",
              "[22265 rows x 18 columns]"
            ]
          },
          "metadata": {},
          "execution_count": 32
        }
      ]
    },
    {
      "cell_type": "code",
      "metadata": {
        "id": "MDU8sZ4DczJp",
        "colab": {
          "base_uri": "https://localhost:8080/",
          "height": 204
        },
        "outputId": "8c99f897-d50a-4cce-a629-526c88a8c432"
      },
      "source": [
        "df_train.head()"
      ],
      "execution_count": 33,
      "outputs": [
        {
          "output_type": "execute_result",
          "data": {
            "text/html": [
              "<div>\n",
              "<style scoped>\n",
              "    .dataframe tbody tr th:only-of-type {\n",
              "        vertical-align: middle;\n",
              "    }\n",
              "\n",
              "    .dataframe tbody tr th {\n",
              "        vertical-align: top;\n",
              "    }\n",
              "\n",
              "    .dataframe thead th {\n",
              "        text-align: right;\n",
              "    }\n",
              "</style>\n",
              "<table border=\"1\" class=\"dataframe\">\n",
              "  <thead>\n",
              "    <tr style=\"text-align: right;\">\n",
              "      <th></th>\n",
              "      <th>ID</th>\n",
              "      <th>Store_id</th>\n",
              "      <th>Store_Type</th>\n",
              "      <th>Location_Type</th>\n",
              "      <th>Region_Code</th>\n",
              "      <th>Date</th>\n",
              "      <th>Holiday</th>\n",
              "      <th>Discount</th>\n",
              "      <th>#Order</th>\n",
              "      <th>Sales</th>\n",
              "    </tr>\n",
              "  </thead>\n",
              "  <tbody>\n",
              "    <tr>\n",
              "      <th>0</th>\n",
              "      <td>T1000001</td>\n",
              "      <td>1</td>\n",
              "      <td>S1</td>\n",
              "      <td>L3</td>\n",
              "      <td>R1</td>\n",
              "      <td>2018-01-01</td>\n",
              "      <td>1</td>\n",
              "      <td>Yes</td>\n",
              "      <td>9</td>\n",
              "      <td>7011.84</td>\n",
              "    </tr>\n",
              "    <tr>\n",
              "      <th>1</th>\n",
              "      <td>T1000002</td>\n",
              "      <td>253</td>\n",
              "      <td>S4</td>\n",
              "      <td>L2</td>\n",
              "      <td>R1</td>\n",
              "      <td>2018-01-01</td>\n",
              "      <td>1</td>\n",
              "      <td>Yes</td>\n",
              "      <td>60</td>\n",
              "      <td>51789.12</td>\n",
              "    </tr>\n",
              "    <tr>\n",
              "      <th>2</th>\n",
              "      <td>T1000003</td>\n",
              "      <td>252</td>\n",
              "      <td>S3</td>\n",
              "      <td>L2</td>\n",
              "      <td>R1</td>\n",
              "      <td>2018-01-01</td>\n",
              "      <td>1</td>\n",
              "      <td>Yes</td>\n",
              "      <td>42</td>\n",
              "      <td>36868.20</td>\n",
              "    </tr>\n",
              "    <tr>\n",
              "      <th>3</th>\n",
              "      <td>T1000004</td>\n",
              "      <td>251</td>\n",
              "      <td>S2</td>\n",
              "      <td>L3</td>\n",
              "      <td>R1</td>\n",
              "      <td>2018-01-01</td>\n",
              "      <td>1</td>\n",
              "      <td>Yes</td>\n",
              "      <td>23</td>\n",
              "      <td>19715.16</td>\n",
              "    </tr>\n",
              "    <tr>\n",
              "      <th>4</th>\n",
              "      <td>T1000005</td>\n",
              "      <td>250</td>\n",
              "      <td>S2</td>\n",
              "      <td>L3</td>\n",
              "      <td>R4</td>\n",
              "      <td>2018-01-01</td>\n",
              "      <td>1</td>\n",
              "      <td>Yes</td>\n",
              "      <td>62</td>\n",
              "      <td>45614.52</td>\n",
              "    </tr>\n",
              "  </tbody>\n",
              "</table>\n",
              "</div>"
            ],
            "text/plain": [
              "         ID  Store_id Store_Type  ... Discount #Order     Sales\n",
              "0  T1000001         1         S1  ...      Yes      9   7011.84\n",
              "1  T1000002       253         S4  ...      Yes     60  51789.12\n",
              "2  T1000003       252         S3  ...      Yes     42  36868.20\n",
              "3  T1000004       251         S2  ...      Yes     23  19715.16\n",
              "4  T1000005       250         S2  ...      Yes     62  45614.52\n",
              "\n",
              "[5 rows x 10 columns]"
            ]
          },
          "metadata": {},
          "execution_count": 33
        }
      ]
    },
    {
      "cell_type": "code",
      "metadata": {
        "id": "yCc01ohjKIlW"
      },
      "source": [
        "df_train = pd.get_dummies(df_train, columns=['Store_Type', 'Location_Type','Region_Code'])"
      ],
      "execution_count": 34,
      "outputs": []
    },
    {
      "cell_type": "code",
      "metadata": {
        "id": "GuT7KkGr4kKH",
        "colab": {
          "base_uri": "https://localhost:8080/"
        },
        "outputId": "8cf161b9-79d6-4e6e-e788-6e5b588b12d7"
      },
      "source": [
        "df_train.info()"
      ],
      "execution_count": 35,
      "outputs": [
        {
          "output_type": "stream",
          "name": "stdout",
          "text": [
            "<class 'pandas.core.frame.DataFrame'>\n",
            "RangeIndex: 188340 entries, 0 to 188339\n",
            "Data columns (total 20 columns):\n",
            " #   Column            Non-Null Count   Dtype         \n",
            "---  ------            --------------   -----         \n",
            " 0   ID                188340 non-null  object        \n",
            " 1   Store_id          188340 non-null  int64         \n",
            " 2   Date              188340 non-null  datetime64[ns]\n",
            " 3   Holiday           188340 non-null  int64         \n",
            " 4   Discount          188340 non-null  object        \n",
            " 5   #Order            188340 non-null  int64         \n",
            " 6   Sales             188340 non-null  float64       \n",
            " 7   Store_Type_S1     188340 non-null  uint8         \n",
            " 8   Store_Type_S2     188340 non-null  uint8         \n",
            " 9   Store_Type_S3     188340 non-null  uint8         \n",
            " 10  Store_Type_S4     188340 non-null  uint8         \n",
            " 11  Location_Type_L1  188340 non-null  uint8         \n",
            " 12  Location_Type_L2  188340 non-null  uint8         \n",
            " 13  Location_Type_L3  188340 non-null  uint8         \n",
            " 14  Location_Type_L4  188340 non-null  uint8         \n",
            " 15  Location_Type_L5  188340 non-null  uint8         \n",
            " 16  Region_Code_R1    188340 non-null  uint8         \n",
            " 17  Region_Code_R2    188340 non-null  uint8         \n",
            " 18  Region_Code_R3    188340 non-null  uint8         \n",
            " 19  Region_Code_R4    188340 non-null  uint8         \n",
            "dtypes: datetime64[ns](1), float64(1), int64(3), object(2), uint8(13)\n",
            "memory usage: 12.4+ MB\n"
          ]
        }
      ]
    },
    {
      "cell_type": "code",
      "metadata": {
        "id": "VkMFv1FE2irX"
      },
      "source": [
        "df_test.drop(columns=['ID'],axis=1,inplace=True)"
      ],
      "execution_count": 41,
      "outputs": []
    },
    {
      "cell_type": "code",
      "metadata": {
        "id": "TL58DBX5KdHd"
      },
      "source": [
        "df_train.drop(columns=['ID'],axis=1,inplace=True)"
      ],
      "execution_count": 40,
      "outputs": []
    },
    {
      "cell_type": "code",
      "metadata": {
        "id": "Haf1uIqWHmcG"
      },
      "source": [
        "df_train=df_train.rename(columns={'Sales':'y','Date':'ds'})\n",
        "                         "
      ],
      "execution_count": 43,
      "outputs": []
    },
    {
      "cell_type": "code",
      "metadata": {
        "id": "MFC54IIEtmRa"
      },
      "source": [
        ""
      ],
      "execution_count": 41,
      "outputs": []
    },
    {
      "cell_type": "code",
      "metadata": {
        "id": "QM7PrzJ_tpJo"
      },
      "source": [
        ""
      ],
      "execution_count": 41,
      "outputs": []
    }
  ]
}